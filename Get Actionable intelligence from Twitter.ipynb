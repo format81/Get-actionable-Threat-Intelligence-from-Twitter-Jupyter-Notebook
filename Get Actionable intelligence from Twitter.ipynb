{
  "cells": [
    {
      "cell_type": "markdown",
      "source": [
        "# Get actionable Threat Intelligence from Twitter\r\n",
        "\r\n",
        "__Notebook Version:__ 1.1 <br>\r\n",
        "__Notebook Author:__ Antonio Formato<br>\r\n",
        "\r\n",
        "\r\n",
        "__Python Version:__ >=Python 3.8<br>\r\n",
        "\r\n",
        "__Data Source Required:__ None<br>\r\n",
        "\r\n",
        "__GPU Compute Required:__ No<br>\r\n",
        "\r\n",
        "__Packages Downloaded:__ \r\n",
        "- tweepy\r\n",
        "- pandas\r\n",
        "\r\n",
        "\r\n",
        "## Overview\r\n",
        "\r\n",
        "Social media platforms allow users to communicate and share information. For security professionals, it could be more than just a networking tool. It can also be an additional source of valuable information on topics from vulnerabilities, exploits, and malware to threat actors and anomalous cyber activities. \r\n",
        "\r\n",
        "<p style=\"border: solid; padding: 5pt; color: white; background-color: Green\">\r\n",
        "This notebook allows a user to get Indicators of Compromise (IOC) from Twitter. Search is based on hashtags.\r\n",
        "</p>\r\n",
        "\r\n",
        "## Prerequisites\r\n",
        "**Please do not run the notebook cells all at once**. The cells need to be run sequentially and successfully executed before proceeding with the remainder of the notebook.\r\n",
        "\r\n",
        "## Table of Contents\r\n",
        "\r\n",
        "1. Setup environment to scrape cybersecurity info tweets\r\n",
        "2. Defining script logic\r\n",
        "3. Main function\r\n",
        "4. Organizing IOCs obtained from previous step\r\n",
        "5. MYSTICpy to invoke Microsoft Sentinel API to work wiht IOCs\r\n",
        "6. Create Indicators using Microsoft Sentinel API"
      ],
      "metadata": {
        "nteract": {
          "transient": {
            "deleting": false
          }
        }
      }
    },
    {
      "cell_type": "markdown",
      "source": [
        "## 1 Setup environment to scrape cybersecurity info tweets\r\n",
        "Python script needs to install `tweepy`  and `pandas`.<br>"
      ],
      "metadata": {
        "nteract": {
          "transient": {
            "deleting": false
          }
        }
      }
    },
    {
      "cell_type": "code",
      "source": [
        "# import some modules needed in Notebook\r\n",
        "\r\n",
        "%pip install tweepy\r\n",
        "%pip install pandas"
      ],
      "outputs": [],
      "execution_count": null,
      "metadata": {
        "jupyter": {
          "source_hidden": false,
          "outputs_hidden": false
        },
        "nteract": {
          "transient": {
            "deleting": false
          }
        },
        "gather": {
          "logged": 1678703572622
        }
      }
    },
    {
      "cell_type": "markdown",
      "source": [
        "## 2 Defining script logic\r\n",
        "\r\n",
        "[https://www.geeksforgeeks.org/extracting-tweets-containing-a-particular-hashtag-using-python/: ](https://www.geeksforgeeks.org/extracting-tweets-containing-a-particular-hashtag-using-python/)"
      ],
      "metadata": {
        "nteract": {
          "transient": {
            "deleting": false
          }
        }
      }
    },
    {
      "cell_type": "code",
      "source": [
        "# import relevant modules\r\n",
        "import pandas as pd\r\n",
        "import tweepy"
      ],
      "outputs": [],
      "execution_count": null,
      "metadata": {
        "jupyter": {
          "source_hidden": false,
          "outputs_hidden": true
        },
        "nteract": {
          "transient": {
            "deleting": false
          }
        },
        "gather": {
          "logged": 1678726019475
        }
      }
    },
    {
      "cell_type": "code",
      "source": [
        "# Extract tweets based on Hashtag\r\n",
        "\r\n",
        "# function - tweet data\r\n",
        "def print_tweets(n, n_tweet):\r\n",
        "\t\tprint()\r\n",
        "\t\tprint(f\"Tweet {n}:\")\r\n",
        "\t\tprint(f\"Username:{n_tweet[0]}\")\r\n",
        "\t\tprint(f\"Description:{n_tweet[1]}\")\r\n",
        "\t\tprint(f\"Tweet Text:{n_tweet[2]}\")\r\n",
        "\t\tprint(f\"Hashtags Used:{n_tweet[3]}\")\r\n",
        "\r\n",
        "# function - perform data extraction\r\n",
        "def scrape(words, date_since, n_tweet):\r\n",
        "\r\n",
        "\t\t# Creating DataFrame using pandas\r\n",
        "\t\tdb = pd.DataFrame(columns=['username',\r\n",
        "\t\t\t\t\t\t\t\t'description',\r\n",
        "\t\t\t\t\t\t\t\t'text',\r\n",
        "\t\t\t\t\t\t\t\t'hashtags'])\r\n",
        "\r\n",
        "\t\t# We are using .Cursor() to search through twitter for the required tweets.\r\n",
        "\t\t# The number of tweets can be restricted using .items(number of tweets)\r\n",
        "\t\ttweets = tweepy.Cursor(api.search_tweets,\r\n",
        "\t\t\t\t\t\t\twords, lang=\"en\",\r\n",
        "\t\t\t\t\t\t\tsince_id=date_since,\r\n",
        "\t\t\t\t\t\t\ttweet_mode='extended').items(n_tweet)\r\n",
        "\r\n",
        "\t\t# .Cursor() returns an iterable object. Each item in the iterator has various attributes that you can access to get information about each tweet\r\n",
        "\t\tlist_tweets = [tweet for tweet in tweets]\r\n",
        "\r\n",
        "\t\t# Counter to maintain Tweet Count\r\n",
        "\t\ti = 1\r\n",
        "\r\n",
        "\t\t# we will iterate over each tweet in the list for extracting information about each tweet\r\n",
        "\t\tfor tweet in list_tweets:\r\n",
        "\t\t\t\tusername = tweet.user.screen_name\r\n",
        "\t\t\t\tdescription = tweet.user.description\r\n",
        "\t\t\t\thashtags = tweet.entities['hashtags']\r\n",
        "\r\n",
        "\t\t\t\t# Retweets can be distinguished by a retweeted_status attribute, in case it is an invalid reference, except block will be executed\r\n",
        "\t\t\t\ttry:\r\n",
        "\t\t\t\t\t\ttext = tweet.retweeted_status.full_text\r\n",
        "\t\t\t\texcept AttributeError:\r\n",
        "\t\t\t\t\t\ttext = tweet.full_text\r\n",
        "\t\t\t\thashtext = list()\r\n",
        "\t\t\t\tfor j in range(0, len(hashtags)):\r\n",
        "\t\t\t\t\t\thashtext.append(hashtags[j]['text'])\r\n",
        "\r\n",
        "\t\t\t\t# Here we are appending all the extracted information in the DataFrame\r\n",
        "\t\t\t\tn_tweet = [username, description,\r\n",
        "                           text, hashtext]\r\n",
        "\t\t\t\tdb.loc[len(db)] = n_tweet\r\n",
        "\r\n",
        "\t\t\t\t# print tweet data\r\n",
        "\t\t\t\tprint_tweets(i, n_tweet)\r\n",
        "\t\t\t\ti = i+1\r\n",
        "\t\tfilename = 'scraped_tweets.csv'\r\n",
        "\r\n",
        "\t\t#CSV file.\r\n",
        "\t\tdb.to_csv(filename)"
      ],
      "outputs": [],
      "execution_count": null,
      "metadata": {
        "jupyter": {
          "source_hidden": false,
          "outputs_hidden": true
        },
        "nteract": {
          "transient": {
            "deleting": false
          }
        },
        "gather": {
          "logged": 1678726022247
        }
      }
    },
    {
      "cell_type": "markdown",
      "source": [
        "## 3 Main function\r\n",
        "Secret can be secured using Azure Key Vault.<br>\r\n",
        "Note: This could be an enahchment for future developments."
      ],
      "metadata": {
        "nteract": {
          "transient": {
            "deleting": false
          }
        }
      }
    },
    {
      "cell_type": "code",
      "source": [
        "if __name__ == '__main__':\r\n",
        "\r\n",
        "\t\t#twitter dev account credentials\r\n",
        "\t\tconsumer_key = \"CONSUMER KEY TWITTER DEV ACCOUNT\"\r\n",
        "\t\tconsumer_secret = \"CONSUMER SECRET TWITTER DEV ACCOUNT\"\r\n",
        "\t\taccess_key = \"ACCESS KEY TWITTER DEV ACCOUNT\"\r\n",
        "\t\taccess_secret = \"ACCESS SECRET TWITTER DEV ACCOUNT\"\r\n",
        "\r\n",
        "\t\tauth = tweepy.OAuthHandler(consumer_key, consumer_secret)\r\n",
        "\t\tauth.set_access_token(access_key, access_secret)\r\n",
        "\t\tapi = tweepy.API(auth)\r\n",
        "\r\n",
        "\t\t# Enter Hashtag and initial date\r\n",
        "\t\tprint(\"Enter Twitter HashTag\")\r\n",
        "\t\twords = input()\r\n",
        "\t\tprint(\"Enter Date yyyy-mm-dd\")\r\n",
        "\t\tdate_since = input()\r\n",
        "\r\n",
        "\t\t# number of tweets you want to extract in one run\r\n",
        "\t\tn_tweet = 100\r\n",
        "\t\tscrape(words, date_since, n_tweet)\r\n",
        "\t\tprint('Scraping has completed!')"
      ],
      "outputs": [],
      "execution_count": null,
      "metadata": {
        "jupyter": {
          "source_hidden": false,
          "outputs_hidden": false
        },
        "nteract": {
          "transient": {
            "deleting": false
          }
        },
        "gather": {
          "logged": 1678726050961
        }
      }
    },
    {
      "cell_type": "markdown",
      "source": [
        "## 4 Organizing IOCs obtained from previous step\r\n",
        "\r\n",
        "Organizing the collected information is a crucial step in the process of extracting insights from Twitter data. Regex, or Regular Expressions, is a powerful tool for searching, matching, and manipulating text. In this context, it can be used to extract domain information from tweets. This information can then be used to write indicators in a threat intelligence table using the Microsoft Sentinel API.<br>\r\n",
        "\r\n",
        "Using the Microsoft Sentinel API, you can use `mystipy` library to write the indicators to the threat intelligence table. This will allow you to store and categorize the information in a structured manner, making it easier to analyze and track any potential security threats. The indicators could include information such as domain names, IP addresses, file hashes, or other relevant data. This information can then be used for security monitoring, threat detection, and incident response.<br>\r\n",
        "By organizing the information in a threat intelligence table, you can create a centralized repository of information that can be used to support various security use cases. This will enable you to quickly access the information and use it to make informed decisions in the event of a security incident.\r\n"
      ],
      "metadata": {
        "nteract": {
          "transient": {
            "deleting": false
          }
        }
      }
    },
    {
      "cell_type": "code",
      "source": [
        "import csv  \r\n",
        "import re  \r\n",
        "  \r\n",
        "domains = set()  \r\n",
        "  \r\n",
        "with open('scraped_tweets.csv', 'r') as file:  \r\n",
        "    reader = csv.DictReader(file)  \r\n",
        "    for row in reader:  \r\n",
        "        text = row['text']  \r\n",
        "        matches = re.findall(r\"Domain:\\s*(\\S+)\", text)  \r\n",
        "        for match in matches:  \r\n",
        "            domain = match.strip('[').strip(']')  \r\n",
        "            domains.add(domain)  \r\n",
        "  \r\n",
        "formatted_domains = [f\"{d.replace('[','').replace(']','')}.com\" for d in domains]  \r\n",
        "  \r\n",
        "print(formatted_domains)  \r\n"
      ],
      "outputs": [],
      "execution_count": null,
      "metadata": {
        "jupyter": {
          "source_hidden": false,
          "outputs_hidden": false
        },
        "nteract": {
          "transient": {
            "deleting": false
          }
        },
        "gather": {
          "logged": 1678726059050
        }
      }
    },
    {
      "cell_type": "markdown",
      "source": [
        "## 5 MYSTICpy to invoke Microsoft Sentinel API to work wiht IOCs\r\n",
        "**Connect to Sentinel via API provided by MISTIpy**\r\n",
        "\r\n",
        "Following code imports several modules from the msticpy library:\r\n",
        "\r\n",
        "1. `MicrosoftSentinel` from `msticpy.context.azure.sentinel_core` - This class provides the ability to interact with the Microsoft Sentinel security platform, including writing data to the Sentinel Workspace.\r\n",
        "2. `widgets` from `msticpy.nbwidgets` - This module provides a collection of Jupyter Notebook widgets that can be used for interactive data exploration and visualization\r\n",
        "3. `data_obfus` from `msticpy.data` - This module provides functions for obscuring or masking sensitive data, such as IP addresses, URLs, and file hashes. The imported variable mask is an alias for the module.\r\n",
        "\r\n",
        "`msticpy` is a python library developed by Microsoft for security investigation and hunting in Microsot Sentinel and other security data sources. The library provides a collection of tools and functions that simplify the process of working with security data, making it easier to extract meaningful insights and respond to security incidents."
      ],
      "metadata": {
        "nteract": {
          "transient": {
            "deleting": false
          }
        }
      }
    },
    {
      "cell_type": "code",
      "source": [
        "from msticpy.context.azure.sentinel_core import MicrosoftSentinel\r\n",
        "import msticpy.nbwidgets as widgets\r\n",
        "from msticpy.data import data_obfus as mask"
      ],
      "outputs": [],
      "execution_count": null,
      "metadata": {
        "jupyter": {
          "source_hidden": false,
          "outputs_hidden": false
        },
        "nteract": {
          "transient": {
            "deleting": false
          }
        },
        "gather": {
          "logged": 1678726064696
        }
      }
    },
    {
      "cell_type": "markdown",
      "source": [
        "**Initializing a connection to the Microsoft Sentinel **\r\n",
        "\r\n",
        "This code creates an instance of the MicrosoftSentinel class, with the following parameters:\r\n",
        "- `sub_id`: The ID of the Azure Subscription that contains the Sentinel Workspace.\r\n",
        "- `res_grp`: The name of the Azure Resource Group that contains the Sentinel Workspace.\r\n",
        "- `ws_name`: The name of the Sentinel Workspace.\r\n",
        "\r\n",
        "Once the instance is created, the `connect()` method is called to establish a connection to the specified Sentinel Workspace. The MicrosoftSentinel class provides a convenient way to interact with the Sentinel security platform, including reading and writing data to the workspace. "
      ],
      "metadata": {
        "nteract": {
          "transient": {
            "deleting": false
          }
        }
      }
    },
    {
      "cell_type": "code",
      "source": [
        "azs = MicrosoftSentinel(sub_id=\"MICROSOFT SENTINEL SUBSCRIPTION ID\",\r\n",
        "    res_grp=\"MICROSOFT SENTINEL RESOURCE GROUP\",\r\n",
        "    ws_name=\"MICROSOFT SENTINEL ISANCE NAME\")\r\n",
        "azs.connect()"
      ],
      "outputs": [],
      "execution_count": null,
      "metadata": {
        "jupyter": {
          "source_hidden": false,
          "outputs_hidden": false
        },
        "nteract": {
          "transient": {
            "deleting": false
          }
        },
        "gather": {
          "logged": 1678726100937
        }
      }
    },
    {
      "cell_type": "markdown",
      "source": [
        "Getting all indicators from **Microsoft Sentinel Threat Intelligence** data ingested.<br>\r\n",
        "This code is calling the `get_all_indicators()` method on the MicrosoftSentinel instance created in the previous code. The `get_all_indicators()` method retrieves all of the indicators stored in the Sentinel Workspace associated with the instance."
      ],
      "metadata": {
        "nteract": {
          "transient": {
            "deleting": false
          }
        }
      }
    },
    {
      "cell_type": "code",
      "source": [
        "azs.get_all_indicators()"
      ],
      "outputs": [],
      "execution_count": null,
      "metadata": {
        "jupyter": {
          "source_hidden": false,
          "outputs_hidden": false
        },
        "nteract": {
          "transient": {
            "deleting": false
          }
        },
        "gather": {
          "logged": 1678726108322
        }
      }
    },
    {
      "cell_type": "markdown",
      "source": [
        "## 6 Create Indicators using Microsoft Sentinel API\r\n",
        "\r\n",
        "By using the `Text` widget to input the indicator and the create_indicator method to write the indicator to the Sentinel Workspace, you can create a user-friendly interface for writing threat intelligence data to the Sentinel Workspace. This can make it easier for security analysts to quickly and accurately input and store threat intelligence data, without having to manually enter data into the Sentinel Workspace.<br>\r\n",
        "<br>\r\n",
        "After creating the Text widget, the code then calls the create_indicator method on the MicrosoftSentinel instance.<br>\r\n",
        "\r\n",
        "The create_indicator method takes two parameters:\r\n",
        "\r\n",
        "- `indicator`: The text that is entered in the text field, which represents the indicator that should be written to the Sentinel Workspace.\r\n",
        "- `ioc_type`: The type of indicator being written, specified as \"url\"."
      ],
      "metadata": {
        "nteract": {
          "transient": {
            "deleting": false
          }
        }
      }
    },
    {
      "cell_type": "code",
      "source": [
        "for url in formatted_domains: \r\n",
        "    print(\"creating indicator\", url)   \r\n",
        "    azs.create_indicator(indicator=url, ioc_type=\"url\", description=f\"URL indicator from Twitter data {url}\")"
      ],
      "outputs": [],
      "execution_count": null,
      "metadata": {
        "jupyter": {
          "source_hidden": false,
          "outputs_hidden": false
        },
        "nteract": {
          "transient": {
            "deleting": false
          }
        },
        "gather": {
          "logged": 1678726117591
        }
      }
    },
    {
      "cell_type": "markdown",
      "source": [
        "Invoking `query_indicators` to get indicator created in previous step to verify TI ingestion."
      ],
      "metadata": {
        "nteract": {
          "transient": {
            "deleting": false
          }
        }
      }
    },
    {
      "cell_type": "code",
      "source": [
        "print(formatted_domains[0])  \r\n",
        "azs.query_indicators(keywords = formatted_domains[0])"
      ],
      "outputs": [],
      "execution_count": null,
      "metadata": {
        "jupyter": {
          "source_hidden": false,
          "outputs_hidden": false
        },
        "nteract": {
          "transient": {
            "deleting": false
          }
        },
        "gather": {
          "logged": 1678726758050
        }
      }
    },
    {
      "cell_type": "markdown",
      "source": [
        "## 7 Check indicators on Microsoft Sentinel\r\n",
        "\r\n",
        "Go to Microsoft Sentinel, Threat Intelligence blade and select MSTICPy TI source provider to see all indicators added by this Notebook.\r\n",
        "You can use filters to look for specific Indicators.\r\n",
        "\r\n",
        "![Threat Intelligence Microsoft](images/sentinelTI.png)"
      ],
      "metadata": {
        "nteract": {
          "transient": {
            "deleting": false
          }
        }
      }
    },
    {
      "cell_type": "markdown",
      "source": [
        "I hope you have **enjoyed** using this **Jupyter Notebook**.<br> \r\n",
        "I believe that it can be a valuable tool for managing and analyzing threat intelligence data.<br> \r\n",
        "If you found this notebook useful, I invite you to obtain the latest version from Github and to contribute to its development.<br> \r\n",
        "\r\n",
        "<p style=\"border: solid; padding: 5pt; color: white; background-color: Green\">\r\n",
        "Your feedback and contributions can help make this notebook even more useful for the security community.\r\n",
        "</p>"
      ],
      "metadata": {
        "nteract": {
          "transient": {
            "deleting": false
          }
        }
      }
    }
  ],
  "metadata": {
    "kernelspec": {
      "name": "python38-azureml",
      "language": "python",
      "display_name": "Python 3.8 - AzureML"
    },
    "language_info": {
      "name": "python",
      "version": "3.8.10",
      "mimetype": "text/x-python",
      "codemirror_mode": {
        "name": "ipython",
        "version": 3
      },
      "pygments_lexer": "ipython3",
      "nbconvert_exporter": "python",
      "file_extension": ".py"
    },
    "kernel_info": {
      "name": "python38-azureml"
    },
    "microsoft": {
      "host": {
        "AzureML": {
          "notebookHasBeenCompleted": true
        }
      },
      "ms_spell_check": {
        "ms_spell_check_language": "en"
      }
    },
    "nteract": {
      "version": "nteract-front-end@1.0.0"
    }
  },
  "nbformat": 4,
  "nbformat_minor": 2
}
